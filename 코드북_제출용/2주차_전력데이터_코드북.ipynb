{
 "cells": [
  {
   "cell_type": "code",
   "execution_count": 2,
   "metadata": {},
   "outputs": [],
   "source": [
    "import matplotlib.pyplot as plt\n",
    "# 한글 폰트 지정\n",
    "plt.rc(\"font\", family = \"Malgun Gothic\")\n",
    "# 스타일 서식 train\n",
    "plt.style.use('ggplot')\n",
    "\n",
    "# 마이너스 기호 표시 설정\n",
    "plt.rcParams['axes.unicode_minus'] = False"
   ]
  },
  {
   "cell_type": "code",
   "execution_count": 4,
   "metadata": {},
   "outputs": [
    {
     "ename": "ModuleNotFoundError",
     "evalue": "No module named 'statsmodels'",
     "output_type": "error",
     "traceback": [
      "\u001b[1;31m---------------------------------------------------------------------------\u001b[0m",
      "\u001b[1;31mModuleNotFoundError\u001b[0m                       Traceback (most recent call last)",
      "Cell \u001b[1;32mIn[4], line 21\u001b[0m\n\u001b[0;32m     18\u001b[0m \u001b[38;5;28;01mfrom\u001b[39;00m \u001b[38;5;21;01msklearn\u001b[39;00m\u001b[38;5;21;01m.\u001b[39;00m\u001b[38;5;21;01mtree\u001b[39;00m \u001b[38;5;28;01mimport\u001b[39;00m export_graphviz, DecisionTreeClassifier\n\u001b[0;32m     20\u001b[0m \u001b[38;5;66;03m# 통계 및 시계열 분석 라이브러리\u001b[39;00m\n\u001b[1;32m---> 21\u001b[0m \u001b[38;5;28;01mfrom\u001b[39;00m \u001b[38;5;21;01mstatsmodels\u001b[39;00m\u001b[38;5;21;01m.\u001b[39;00m\u001b[38;5;21;01mtsa\u001b[39;00m\u001b[38;5;21;01m.\u001b[39;00m\u001b[38;5;21;01mseasonal\u001b[39;00m \u001b[38;5;28;01mimport\u001b[39;00m seasonal_decompose  \u001b[38;5;66;03m# 시계열\u001b[39;00m\n\u001b[0;32m     22\u001b[0m \u001b[38;5;28;01mfrom\u001b[39;00m \u001b[38;5;21;01mstatsmodels\u001b[39;00m\u001b[38;5;21;01m.\u001b[39;00m\u001b[38;5;21;01mtsa\u001b[39;00m\u001b[38;5;21;01m.\u001b[39;00m\u001b[38;5;21;01mstattools\u001b[39;00m \u001b[38;5;28;01mimport\u001b[39;00m adfuller  \u001b[38;5;66;03m# 정상성 테스트\u001b[39;00m\n\u001b[0;32m     23\u001b[0m \u001b[38;5;28;01mfrom\u001b[39;00m \u001b[38;5;21;01mstatsmodels\u001b[39;00m\u001b[38;5;21;01m.\u001b[39;00m\u001b[38;5;21;01mgraphics\u001b[39;00m\u001b[38;5;21;01m.\u001b[39;00m\u001b[38;5;21;01mtsaplots\u001b[39;00m \u001b[38;5;28;01mimport\u001b[39;00m plot_pacf, plot_acf  \u001b[38;5;66;03m# PACF, ACF\u001b[39;00m\n",
      "\u001b[1;31mModuleNotFoundError\u001b[0m: No module named 'statsmodels'"
     ]
    }
   ],
   "source": [
    "# 필요한 라이브러리 임포트\n",
    "# 데이터 처리 및 시각화 라이브러리\n",
    "import pandas as pd\n",
    "import seaborn as sns\n",
    "import numpy as np\n",
    "import random\n",
    "import os\n",
    "from matplotlib.pylab import rcParams  # 차트의 크기를 조절하기 위한 라이브러리\n",
    "\n",
    "# 사이킷런 (scikit-learn) 라이브러리\n",
    "from sklearn import metrics\n",
    "from sklearn.metrics import accuracy_score, classification_report\n",
    "from sklearn.metrics import recall_score, confusion_matrix, precision_score, f1_score, roc_curve\n",
    "from sklearn.model_selection import train_test_split, GridSearchCV  # 파라미터 설정 고민을 줄여주는 고마운 친구\n",
    "from sklearn.preprocessing import MinMaxScaler, LabelEncoder, StandardScaler\n",
    "from sklearn.metrics import make_scorer, mean_squared_error, r2_score  # loss function 커스터마이징\n",
    "from sklearn.cluster import KMeans\n",
    "from sklearn.tree import export_graphviz, DecisionTreeClassifier\n",
    "\n",
    "# 통계 및 시계열 분석 라이브러리\n",
    "from statsmodels.tsa.seasonal import seasonal_decompose  # 시계열\n",
    "from statsmodels.tsa.stattools import adfuller  # 정상성 테스트\n",
    "from statsmodels.graphics.tsaplots import plot_pacf, plot_acf  # PACF, ACF\n",
    "from statsmodels.tsa.arima.model import ARIMA  # ARIMA 모델\n",
    "\n",
    "# 머신러닝 라이브러리 (LightGBM, XGBoost)\n",
    "import lightgbm as lgb\n",
    "from lightgbm import LGBMRegressor\n",
    "import xgboost as xgb\n",
    "from xgboost import plot_importance, XGBClassifier, plot_tree\n",
    "\n",
    "# 딥러닝 라이브러리 (PyTorch)\n",
    "import torch\n",
    "import torch.nn as nn\n",
    "from torch.utils.data import Dataset, DataLoader\n",
    "\n",
    "# 기타\n",
    "from pandas.plotting import autocorrelation_plot\n",
    "from tqdm.auto import tqdm\n",
    "import graphviz\n",
    "import warnings\n",
    "import shap\n",
    "from pycaret.classification import *\n",
    "import ssl \n",
    "from pdpbox import info_plots\n",
    "\n",
    "warnings.filterwarnings('ignore')\n",
    "ssl._create_default_https_context = ssl._create_unverified_context"
   ]
  }
 ],
 "metadata": {
  "kernelspec": {
   "display_name": "venv",
   "language": "python",
   "name": "python3"
  },
  "language_info": {
   "codemirror_mode": {
    "name": "ipython",
    "version": 3
   },
   "file_extension": ".py",
   "mimetype": "text/x-python",
   "name": "python",
   "nbconvert_exporter": "python",
   "pygments_lexer": "ipython3",
   "version": "3.9.6"
  }
 },
 "nbformat": 4,
 "nbformat_minor": 2
}
