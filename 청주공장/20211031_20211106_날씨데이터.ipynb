{
 "cells": [
  {
   "cell_type": "code",
   "execution_count": 1,
   "metadata": {},
   "outputs": [],
   "source": [
    "import matplotlib.pyplot as plt\n",
    "# 한글 폰트 지정\n",
    "plt.rc(\"font\", family = \"Malgun Gothic\")\n",
    "# 스타일 서식 train\n",
    "plt.style.use('ggplot')\n",
    "\n",
    "# 마이너스 기호 표시 설정\n",
    "plt.rcParams['axes.unicode_minus'] = False"
   ]
  },
  {
   "cell_type": "code",
   "execution_count": 2,
   "metadata": {},
   "outputs": [],
   "source": [
    "from datetime import datetime\n",
    "from dateutil.relativedelta import relativedelta\n",
    "\n",
    "from tqdm import tqdm\n",
    "import requests\n",
    "import pandas as pd\n",
    "import numpy as np\n",
    "import time\n",
    "from matplotlib.dates import DateFormatter\n",
    "import matplotlib.pyplot as plt"
   ]
  },
  {
   "cell_type": "markdown",
   "metadata": {},
   "source": [
    "- 추가 데이터 : 2021/10/31~2021/11/07 데이터 가져오기"
   ]
  },
  {
   "cell_type": "code",
   "execution_count": 3,
   "metadata": {},
   "outputs": [
    {
     "name": "stdout",
     "output_type": "stream",
     "text": [
      "['20211030', '20211031', '20211101', '20211102', '20211103', '20211104', '20211105', '20211106', '20211107']\n"
     ]
    }
   ],
   "source": [
    "start_date = datetime.strptime('2021-10-30', '%Y-%m-%d')\n",
    "end_date = datetime.strptime('2021-11-07', '%Y-%m-%d')\n",
    "\n",
    "date_range = []\n",
    "current_date = start_date\n",
    "while current_date <= end_date:\n",
    "    res_date = current_date.strftime('%Y%m%d')  # 날짜 형식 포맷 변경\n",
    "    date_range.append(res_date)\n",
    "    current_date += relativedelta(days=1)\n",
    "\n",
    "print(date_range)"
   ]
  },
  {
   "cell_type": "code",
   "execution_count": 4,
   "metadata": {},
   "outputs": [],
   "source": [
    "start_end_date = []\n",
    "for i in range(len(date_range) -1):\n",
    "    start_end_date.append([date_range[i], date_range[i+1]])"
   ]
  },
  {
   "cell_type": "code",
   "execution_count": 6,
   "metadata": {},
   "outputs": [
    {
     "name": "stderr",
     "output_type": "stream",
     "text": [
      " 12%|█▎        | 1/8 [00:00<00:01,  6.82it/s]"
     ]
    },
    {
     "name": "stdout",
     "output_type": "stream",
     "text": [
      "['20211030', '20211031']\n",
      "['20211031', '20211101']\n"
     ]
    },
    {
     "name": "stderr",
     "output_type": "stream",
     "text": [
      " 38%|███▊      | 3/8 [00:00<00:00,  6.84it/s]"
     ]
    },
    {
     "name": "stdout",
     "output_type": "stream",
     "text": [
      "['20211101', '20211102']\n",
      "['20211102', '20211103']\n"
     ]
    },
    {
     "name": "stderr",
     "output_type": "stream",
     "text": [
      " 62%|██████▎   | 5/8 [00:00<00:00,  7.45it/s]"
     ]
    },
    {
     "name": "stdout",
     "output_type": "stream",
     "text": [
      "['20211103', '20211104']\n",
      "['20211104', '20211105']\n"
     ]
    },
    {
     "name": "stderr",
     "output_type": "stream",
     "text": [
      " 88%|████████▊ | 7/8 [00:00<00:00,  8.15it/s]"
     ]
    },
    {
     "name": "stdout",
     "output_type": "stream",
     "text": [
      "['20211105', '20211106']\n",
      "['20211106', '20211107']\n"
     ]
    },
    {
     "name": "stderr",
     "output_type": "stream",
     "text": [
      "100%|██████████| 8/8 [00:01<00:00,  7.59it/s]\n"
     ]
    }
   ],
   "source": [
    "# 공공데이터 API\n",
    "url = 'http://apis.data.go.kr/1360000/AsosHourlyInfoService/getWthrDataList'\n",
    "key = '''5JZYXZopkKriFyvOfT8qjJHfZz45C5yZ9iRCHCmvVUdU/8uqlzaXRLa6fb6yZCNK0VwjjAf2Wgd4NjaXb8GIkw=='''\n",
    "\n",
    "dfs = []\n",
    "for i in tqdm(start_end_date):\n",
    "    print(i)\n",
    "\n",
    "    params = {'serviceKey' : key, \n",
    "            'pageNo' : '1', \n",
    "            'numOfRows' : '999', \n",
    "            'dataType' : 'JSON', \n",
    "            'dataCd' : 'ASOS', ## 자료분류코드\n",
    "            'dateCd' : 'HR', ## 날짜분류코드\n",
    "            'startDt' : str(i[0]), ## 시작일\n",
    "            'startHh' : '00', ## 시작시간\n",
    "            'endDt' : str(i[1]), ## 종료일\n",
    "            'endHh': '00', ## 종료시간\n",
    "            'stnIds' : '131' ## 청주 지역코드 \n",
    "            }\n",
    "\n",
    "    response = requests.get(url, params=params)\n",
    "    result = response.json()\n",
    "    df = pd.DataFrame(result['response']['body']['items']['item'])\n",
    "    dfs.append(df)\n",
    "\n",
    "week_plus = pd.concat(dfs, axis=0, ignore_index=True)"
   ]
  },
  {
   "cell_type": "code",
   "execution_count": 7,
   "metadata": {},
   "outputs": [
    {
     "data": {
      "text/html": [
       "<div>\n",
       "<style scoped>\n",
       "    .dataframe tbody tr th:only-of-type {\n",
       "        vertical-align: middle;\n",
       "    }\n",
       "\n",
       "    .dataframe tbody tr th {\n",
       "        vertical-align: top;\n",
       "    }\n",
       "\n",
       "    .dataframe thead th {\n",
       "        text-align: right;\n",
       "    }\n",
       "</style>\n",
       "<table border=\"1\" class=\"dataframe\">\n",
       "  <thead>\n",
       "    <tr style=\"text-align: right;\">\n",
       "      <th></th>\n",
       "      <th>tm</th>\n",
       "      <th>rnum</th>\n",
       "      <th>stnId</th>\n",
       "      <th>stnNm</th>\n",
       "      <th>ta</th>\n",
       "      <th>taQcflg</th>\n",
       "      <th>rn</th>\n",
       "      <th>rnQcflg</th>\n",
       "      <th>ws</th>\n",
       "      <th>wsQcflg</th>\n",
       "      <th>...</th>\n",
       "      <th>lcsCh</th>\n",
       "      <th>vs</th>\n",
       "      <th>gndSttCd</th>\n",
       "      <th>dmstMtphNo</th>\n",
       "      <th>ts</th>\n",
       "      <th>tsQcflg</th>\n",
       "      <th>m005Te</th>\n",
       "      <th>m01Te</th>\n",
       "      <th>m02Te</th>\n",
       "      <th>m03Te</th>\n",
       "    </tr>\n",
       "  </thead>\n",
       "  <tbody>\n",
       "    <tr>\n",
       "      <th>195</th>\n",
       "      <td>2021-11-06 20:00</td>\n",
       "      <td>21</td>\n",
       "      <td>131</td>\n",
       "      <td>청주</td>\n",
       "      <td>15.4</td>\n",
       "      <td></td>\n",
       "      <td></td>\n",
       "      <td></td>\n",
       "      <td>0.1</td>\n",
       "      <td></td>\n",
       "      <td>...</td>\n",
       "      <td></td>\n",
       "      <td>1270</td>\n",
       "      <td></td>\n",
       "      <td></td>\n",
       "      <td>11.1</td>\n",
       "      <td></td>\n",
       "      <td></td>\n",
       "      <td></td>\n",
       "      <td></td>\n",
       "      <td></td>\n",
       "    </tr>\n",
       "    <tr>\n",
       "      <th>196</th>\n",
       "      <td>2021-11-06 21:00</td>\n",
       "      <td>22</td>\n",
       "      <td>131</td>\n",
       "      <td>청주</td>\n",
       "      <td>14.3</td>\n",
       "      <td></td>\n",
       "      <td></td>\n",
       "      <td></td>\n",
       "      <td>0.5</td>\n",
       "      <td></td>\n",
       "      <td>...</td>\n",
       "      <td></td>\n",
       "      <td>1100</td>\n",
       "      <td></td>\n",
       "      <td></td>\n",
       "      <td>10.5</td>\n",
       "      <td></td>\n",
       "      <td></td>\n",
       "      <td></td>\n",
       "      <td></td>\n",
       "      <td></td>\n",
       "    </tr>\n",
       "    <tr>\n",
       "      <th>197</th>\n",
       "      <td>2021-11-06 22:00</td>\n",
       "      <td>23</td>\n",
       "      <td>131</td>\n",
       "      <td>청주</td>\n",
       "      <td>13.1</td>\n",
       "      <td></td>\n",
       "      <td></td>\n",
       "      <td></td>\n",
       "      <td>0.3</td>\n",
       "      <td></td>\n",
       "      <td>...</td>\n",
       "      <td></td>\n",
       "      <td>1100</td>\n",
       "      <td></td>\n",
       "      <td></td>\n",
       "      <td>9.8</td>\n",
       "      <td></td>\n",
       "      <td></td>\n",
       "      <td></td>\n",
       "      <td></td>\n",
       "      <td></td>\n",
       "    </tr>\n",
       "    <tr>\n",
       "      <th>198</th>\n",
       "      <td>2021-11-06 23:00</td>\n",
       "      <td>24</td>\n",
       "      <td>131</td>\n",
       "      <td>청주</td>\n",
       "      <td>12.4</td>\n",
       "      <td></td>\n",
       "      <td></td>\n",
       "      <td></td>\n",
       "      <td>0.2</td>\n",
       "      <td></td>\n",
       "      <td>...</td>\n",
       "      <td></td>\n",
       "      <td>1100</td>\n",
       "      <td></td>\n",
       "      <td></td>\n",
       "      <td>9.5</td>\n",
       "      <td></td>\n",
       "      <td></td>\n",
       "      <td></td>\n",
       "      <td></td>\n",
       "      <td></td>\n",
       "    </tr>\n",
       "    <tr>\n",
       "      <th>199</th>\n",
       "      <td>2021-11-07 00:00</td>\n",
       "      <td>25</td>\n",
       "      <td>131</td>\n",
       "      <td>청주</td>\n",
       "      <td>12.8</td>\n",
       "      <td></td>\n",
       "      <td></td>\n",
       "      <td></td>\n",
       "      <td>1.5</td>\n",
       "      <td></td>\n",
       "      <td>...</td>\n",
       "      <td></td>\n",
       "      <td>1301</td>\n",
       "      <td></td>\n",
       "      <td></td>\n",
       "      <td>9.3</td>\n",
       "      <td></td>\n",
       "      <td></td>\n",
       "      <td></td>\n",
       "      <td></td>\n",
       "      <td></td>\n",
       "    </tr>\n",
       "  </tbody>\n",
       "</table>\n",
       "<p>5 rows × 38 columns</p>\n",
       "</div>"
      ],
      "text/plain": [
       "                   tm rnum stnId stnNm    ta taQcflg rn rnQcflg   ws wsQcflg  \\\n",
       "195  2021-11-06 20:00   21   131    청주  15.4                     0.1           \n",
       "196  2021-11-06 21:00   22   131    청주  14.3                     0.5           \n",
       "197  2021-11-06 22:00   23   131    청주  13.1                     0.3           \n",
       "198  2021-11-06 23:00   24   131    청주  12.4                     0.2           \n",
       "199  2021-11-07 00:00   25   131    청주  12.8                     1.5           \n",
       "\n",
       "     ... lcsCh    vs gndSttCd dmstMtphNo    ts tsQcflg m005Te m01Te m02Te  \\\n",
       "195  ...        1270                      11.1                              \n",
       "196  ...        1100                      10.5                              \n",
       "197  ...        1100                       9.8                              \n",
       "198  ...        1100                       9.5                              \n",
       "199  ...        1301                       9.3                              \n",
       "\n",
       "    m03Te  \n",
       "195        \n",
       "196        \n",
       "197        \n",
       "198        \n",
       "199        \n",
       "\n",
       "[5 rows x 38 columns]"
      ]
     },
     "execution_count": 7,
     "metadata": {},
     "output_type": "execute_result"
    }
   ],
   "source": [
    "week_plus.tail()"
   ]
  },
  {
   "cell_type": "code",
   "execution_count": 9,
   "metadata": {},
   "outputs": [
    {
     "name": "stdout",
     "output_type": "stream",
     "text": [
      "            date_time 기온(℃) 풍속(m/s) 습도(%) 강수량(mm) 일조(hr)\n",
      "195  2021-11-06 20:00  15.4     0.1    52               \n",
      "196  2021-11-06 21:00  14.3     0.5    58               \n",
      "197  2021-11-06 22:00  13.1     0.3    64               \n",
      "198  2021-11-06 23:00  12.4     0.2    66               \n",
      "199  2021-11-07 00:00  12.8     1.5    66               \n"
     ]
    }
   ],
   "source": [
    "# 데이터프레임 결합\n",
    "if dfs:\n",
    "    week_plus = pd.concat(dfs, axis=0, ignore_index=True)\n",
    "    \n",
    "    # 필요한 열 선택 및 열 이름 변경\n",
    "    week_plus_selected = week_plus[['tm', 'ta', 'ws', 'hm', 'rn', 'ss']]\n",
    "    week_plus_selected.columns = ['date_time', '기온(℃)', '풍속(m/s)', '습도(%)', '강수량(mm)', '일조(hr)']\n",
    "\n",
    "    # 마지막 행 결과 확인\n",
    "    print(week_plus_selected.tail())\n",
    "else:\n",
    "    print(\"No data fetched from the API.\")"
   ]
  },
  {
   "cell_type": "code",
   "execution_count": 10,
   "metadata": {},
   "outputs": [
    {
     "data": {
      "text/html": [
       "<div>\n",
       "<style scoped>\n",
       "    .dataframe tbody tr th:only-of-type {\n",
       "        vertical-align: middle;\n",
       "    }\n",
       "\n",
       "    .dataframe tbody tr th {\n",
       "        vertical-align: top;\n",
       "    }\n",
       "\n",
       "    .dataframe thead th {\n",
       "        text-align: right;\n",
       "    }\n",
       "</style>\n",
       "<table border=\"1\" class=\"dataframe\">\n",
       "  <thead>\n",
       "    <tr style=\"text-align: right;\">\n",
       "      <th></th>\n",
       "      <th>date_time</th>\n",
       "      <th>기온(℃)</th>\n",
       "      <th>풍속(m/s)</th>\n",
       "      <th>습도(%)</th>\n",
       "      <th>강수량(mm)</th>\n",
       "      <th>일조(hr)</th>\n",
       "    </tr>\n",
       "  </thead>\n",
       "  <tbody>\n",
       "    <tr>\n",
       "      <th>0</th>\n",
       "      <td>2021-10-30 00:00</td>\n",
       "      <td>12.9</td>\n",
       "      <td>0.4</td>\n",
       "      <td>62</td>\n",
       "      <td></td>\n",
       "      <td></td>\n",
       "    </tr>\n",
       "    <tr>\n",
       "      <th>1</th>\n",
       "      <td>2021-10-30 01:00</td>\n",
       "      <td>11.8</td>\n",
       "      <td>0.5</td>\n",
       "      <td>68</td>\n",
       "      <td></td>\n",
       "      <td></td>\n",
       "    </tr>\n",
       "    <tr>\n",
       "      <th>2</th>\n",
       "      <td>2021-10-30 02:00</td>\n",
       "      <td>11.3</td>\n",
       "      <td>0.7</td>\n",
       "      <td>71</td>\n",
       "      <td></td>\n",
       "      <td></td>\n",
       "    </tr>\n",
       "    <tr>\n",
       "      <th>3</th>\n",
       "      <td>2021-10-30 03:00</td>\n",
       "      <td>11.3</td>\n",
       "      <td>0.5</td>\n",
       "      <td>68</td>\n",
       "      <td></td>\n",
       "      <td></td>\n",
       "    </tr>\n",
       "    <tr>\n",
       "      <th>4</th>\n",
       "      <td>2021-10-30 04:00</td>\n",
       "      <td>10.8</td>\n",
       "      <td>0.3</td>\n",
       "      <td>69</td>\n",
       "      <td></td>\n",
       "      <td></td>\n",
       "    </tr>\n",
       "    <tr>\n",
       "      <th>...</th>\n",
       "      <td>...</td>\n",
       "      <td>...</td>\n",
       "      <td>...</td>\n",
       "      <td>...</td>\n",
       "      <td>...</td>\n",
       "      <td>...</td>\n",
       "    </tr>\n",
       "    <tr>\n",
       "      <th>195</th>\n",
       "      <td>2021-11-06 20:00</td>\n",
       "      <td>15.4</td>\n",
       "      <td>0.1</td>\n",
       "      <td>52</td>\n",
       "      <td></td>\n",
       "      <td></td>\n",
       "    </tr>\n",
       "    <tr>\n",
       "      <th>196</th>\n",
       "      <td>2021-11-06 21:00</td>\n",
       "      <td>14.3</td>\n",
       "      <td>0.5</td>\n",
       "      <td>58</td>\n",
       "      <td></td>\n",
       "      <td></td>\n",
       "    </tr>\n",
       "    <tr>\n",
       "      <th>197</th>\n",
       "      <td>2021-11-06 22:00</td>\n",
       "      <td>13.1</td>\n",
       "      <td>0.3</td>\n",
       "      <td>64</td>\n",
       "      <td></td>\n",
       "      <td></td>\n",
       "    </tr>\n",
       "    <tr>\n",
       "      <th>198</th>\n",
       "      <td>2021-11-06 23:00</td>\n",
       "      <td>12.4</td>\n",
       "      <td>0.2</td>\n",
       "      <td>66</td>\n",
       "      <td></td>\n",
       "      <td></td>\n",
       "    </tr>\n",
       "    <tr>\n",
       "      <th>199</th>\n",
       "      <td>2021-11-07 00:00</td>\n",
       "      <td>12.8</td>\n",
       "      <td>1.5</td>\n",
       "      <td>66</td>\n",
       "      <td></td>\n",
       "      <td></td>\n",
       "    </tr>\n",
       "  </tbody>\n",
       "</table>\n",
       "<p>200 rows × 6 columns</p>\n",
       "</div>"
      ],
      "text/plain": [
       "            date_time 기온(℃) 풍속(m/s) 습도(%) 강수량(mm) 일조(hr)\n",
       "0    2021-10-30 00:00  12.9     0.4    62               \n",
       "1    2021-10-30 01:00  11.8     0.5    68               \n",
       "2    2021-10-30 02:00  11.3     0.7    71               \n",
       "3    2021-10-30 03:00  11.3     0.5    68               \n",
       "4    2021-10-30 04:00  10.8     0.3    69               \n",
       "..                ...   ...     ...   ...     ...    ...\n",
       "195  2021-11-06 20:00  15.4     0.1    52               \n",
       "196  2021-11-06 21:00  14.3     0.5    58               \n",
       "197  2021-11-06 22:00  13.1     0.3    64               \n",
       "198  2021-11-06 23:00  12.4     0.2    66               \n",
       "199  2021-11-07 00:00  12.8     1.5    66               \n",
       "\n",
       "[200 rows x 6 columns]"
      ]
     },
     "execution_count": 10,
     "metadata": {},
     "output_type": "execute_result"
    }
   ],
   "source": [
    "week_plus_selected"
   ]
  },
  {
   "cell_type": "code",
   "execution_count": 12,
   "metadata": {},
   "outputs": [],
   "source": [
    "# 2021-11-07 00:00 제거\n",
    "week_plus_selected = week_plus_selected[week_plus_selected['date_time'] != '2021-11-07 00:00']\n",
    "\n",
    "\n",
    "# date_time 열의 중복 값 제거 (중복된 행 중 첫 번째 행만 남김)\n",
    "week_plus_selected.drop_duplicates(subset=['date_time'], inplace=True)"
   ]
  },
  {
   "cell_type": "code",
   "execution_count": 15,
   "metadata": {},
   "outputs": [
    {
     "data": {
      "text/plain": [
       "(192, 6)"
      ]
     },
     "execution_count": 15,
     "metadata": {},
     "output_type": "execute_result"
    }
   ],
   "source": [
    "week_plus_selected.shape"
   ]
  },
  {
   "cell_type": "code",
   "execution_count": 16,
   "metadata": {},
   "outputs": [
    {
     "name": "stdout",
     "output_type": "stream",
     "text": [
      "date_time      0\n",
      "기온(℃)          0\n",
      "풍속(m/s)        0\n",
      "습도(%)          0\n",
      "강수량(mm)      188\n",
      "일조(hr)        96\n",
      "dtype: int64\n"
     ]
    }
   ],
   "source": [
    "week_plus_selected.replace('', np.nan, inplace=True)\n",
    "week_plus_selected.replace(' ', np.nan, inplace=True)\n",
    "\n",
    "# 각 열의 결측치 개수 확인\n",
    "missing_values = week_plus_selected.isnull().sum()\n",
    "\n",
    "# 결측치 개수 출력\n",
    "print(missing_values)"
   ]
  },
  {
   "cell_type": "code",
   "execution_count": 17,
   "metadata": {},
   "outputs": [
    {
     "name": "stdout",
     "output_type": "stream",
     "text": [
      "            date_time 기온(℃) 풍속(m/s) 습도(%) 일조(hr)\n",
      "0    2021-10-30 00:00  12.9     0.4    62      0\n",
      "1    2021-10-30 01:00  11.8     0.5    68      0\n",
      "2    2021-10-30 02:00  11.3     0.7    71      0\n",
      "3    2021-10-30 03:00  11.3     0.5    68      0\n",
      "4    2021-10-30 04:00  10.8     0.3    69      0\n",
      "..                ...   ...     ...   ...    ...\n",
      "194  2021-11-06 19:00  16.7     0.2    45      0\n",
      "195  2021-11-06 20:00  15.4     0.1    52      0\n",
      "196  2021-11-06 21:00  14.3     0.5    58      0\n",
      "197  2021-11-06 22:00  13.1     0.3    64      0\n",
      "198  2021-11-06 23:00  12.4     0.2    66      0\n",
      "\n",
      "[192 rows x 5 columns]\n"
     ]
    }
   ],
   "source": [
    "# 강수량 열 제거\n",
    "week_plus_selected.drop(columns=['강수량(mm)'], inplace=True)\n",
    "\n",
    "# nan을 0으로 대체\n",
    "week_plus_selected['일조(hr)'].fillna(0, inplace=True)\n",
    "\n",
    "print(week_plus_selected)"
   ]
  },
  {
   "cell_type": "code",
   "execution_count": 18,
   "metadata": {},
   "outputs": [
    {
     "name": "stdout",
     "output_type": "stream",
     "text": [
      "<class 'pandas.core.frame.DataFrame'>\n",
      "Index: 192 entries, 0 to 198\n",
      "Data columns (total 5 columns):\n",
      " #   Column     Non-Null Count  Dtype \n",
      "---  ------     --------------  ----- \n",
      " 0   date_time  192 non-null    object\n",
      " 1   기온(℃)      192 non-null    object\n",
      " 2   풍속(m/s)    192 non-null    object\n",
      " 3   습도(%)      192 non-null    object\n",
      " 4   일조(hr)     192 non-null    object\n",
      "dtypes: object(5)\n",
      "memory usage: 9.0+ KB\n"
     ]
    }
   ],
   "source": [
    "week_plus_selected.info()"
   ]
  },
  {
   "cell_type": "code",
   "execution_count": 19,
   "metadata": {},
   "outputs": [],
   "source": [
    "# 데이터프레임을 엑셀 파일로 저장\n",
    "week_plus_selected.to_excel(\"week_plus.xlsx\", index=False)"
   ]
  },
  {
   "cell_type": "code",
   "execution_count": null,
   "metadata": {},
   "outputs": [],
   "source": []
  }
 ],
 "metadata": {
  "kernelspec": {
   "display_name": "venv",
   "language": "python",
   "name": "python3"
  },
  "language_info": {
   "codemirror_mode": {
    "name": "ipython",
    "version": 3
   },
   "file_extension": ".py",
   "mimetype": "text/x-python",
   "name": "python",
   "nbconvert_exporter": "python",
   "pygments_lexer": "ipython3",
   "version": "3.9.6"
  }
 },
 "nbformat": 4,
 "nbformat_minor": 2
}
